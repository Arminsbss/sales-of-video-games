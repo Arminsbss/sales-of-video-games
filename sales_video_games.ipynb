{
  "nbformat": 4,
  "nbformat_minor": 0,
  "metadata": {
    "colab": {
      "name": "sales video games",
      "provenance": [],
      "authorship_tag": "ABX9TyPh0d5jF91+HuxNMjjpPu2r",
      "include_colab_link": true
    },
    "kernelspec": {
      "name": "python3",
      "display_name": "Python 3"
    },
    "language_info": {
      "name": "python"
    },
    "accelerator": "GPU",
    "gpuClass": "standard"
  },
  "cells": [
    {
      "cell_type": "markdown",
      "metadata": {
        "id": "view-in-github",
        "colab_type": "text"
      },
      "source": [
        "<a href=\"https://colab.research.google.com/github/Arminsbss/sales-of-video-games/blob/main/sales_video_games.ipynb\" target=\"_parent\"><img src=\"https://colab.research.google.com/assets/colab-badge.svg\" alt=\"Open In Colab\"/></a>"
      ]
    },
    {
      "cell_type": "code",
      "execution_count": null,
      "metadata": {
        "id": "9Ybcoi_Y7rOQ"
      },
      "outputs": [],
      "source": [
        "import pandas as pd\n",
        "from keras.models import Sequential\n",
        "from keras.layers import *\n",
        "\n",
        "training_data_df = pd.read_csv(\"sales_data_training_scaled.csv\")\n",
        "\n",
        "X = training_data_df.drop('total_earnings', axis=1).values\n",
        "Y = training_data_df[['total_earnings']].values\n",
        "\n",
        "#==========Define the model==========\n",
        "model = Sequential()\n",
        "model.add(Dense(50, input_dim=9, activation='relu'))\n",
        "model.add(Dense(100, activation='relu'))\n",
        "model.add(Dense(50, activation='relu'))\n",
        "model.add(Dense(1, activation='linear'))\n",
        "model.compile(loss=\"mean_squared_error\", optimizer=\"adam\")"
      ]
    },
    {
      "cell_type": "code",
      "source": [
        "#==========Train the model==========\n",
        "model.fit(\n",
        "    X,\n",
        "    Y,\n",
        "    epochs=50,\n",
        "    shuffle=True,\n",
        "    verbose=2 #print more details while training\n",
        ")\n",
        "\n",
        "#==========Load the separate test data set==========\n",
        "test_data_df = pd.read_csv(\"sales_data_test_scaled.csv\")\n",
        "\n",
        "X_test = test_data_df.drop('total_earnings', axis=1).values\n",
        "Y_test = test_data_df[['total_earnings']].values\n",
        "\n",
        "test_error_rate = model.evaluate(X_test, Y_test, verbose=0)\n",
        "print(\"The mean squared error (MSE) for the test data set is: {}\".format(test_error_rate))"
      ],
      "metadata": {
        "colab": {
          "base_uri": "https://localhost:8080/"
        },
        "id": "vv7G_3wz8x6W",
        "outputId": "d791ae36-0bfe-45b6-ed94-68ee24b861bd"
      },
      "execution_count": null,
      "outputs": [
        {
          "output_type": "stream",
          "name": "stdout",
          "text": [
            "Epoch 1/50\n",
            "32/32 - 3s - loss: 0.0208 - 3s/epoch - 95ms/step\n",
            "Epoch 2/50\n",
            "32/32 - 0s - loss: 0.0037 - 62ms/epoch - 2ms/step\n",
            "Epoch 3/50\n",
            "32/32 - 0s - loss: 0.0011 - 61ms/epoch - 2ms/step\n",
            "Epoch 4/50\n",
            "32/32 - 0s - loss: 5.3133e-04 - 61ms/epoch - 2ms/step\n",
            "Epoch 5/50\n",
            "32/32 - 0s - loss: 3.0851e-04 - 60ms/epoch - 2ms/step\n",
            "Epoch 6/50\n",
            "32/32 - 0s - loss: 2.3276e-04 - 64ms/epoch - 2ms/step\n",
            "Epoch 7/50\n",
            "32/32 - 0s - loss: 1.9096e-04 - 67ms/epoch - 2ms/step\n",
            "Epoch 8/50\n",
            "32/32 - 0s - loss: 1.5311e-04 - 59ms/epoch - 2ms/step\n",
            "Epoch 9/50\n",
            "32/32 - 0s - loss: 1.0557e-04 - 61ms/epoch - 2ms/step\n",
            "Epoch 10/50\n",
            "32/32 - 0s - loss: 8.6191e-05 - 61ms/epoch - 2ms/step\n",
            "Epoch 11/50\n",
            "32/32 - 0s - loss: 7.2401e-05 - 61ms/epoch - 2ms/step\n",
            "Epoch 12/50\n",
            "32/32 - 0s - loss: 6.4412e-05 - 59ms/epoch - 2ms/step\n",
            "Epoch 13/50\n",
            "32/32 - 0s - loss: 6.9518e-05 - 61ms/epoch - 2ms/step\n",
            "Epoch 14/50\n",
            "32/32 - 0s - loss: 5.4228e-05 - 65ms/epoch - 2ms/step\n",
            "Epoch 15/50\n",
            "32/32 - 0s - loss: 5.3903e-05 - 59ms/epoch - 2ms/step\n",
            "Epoch 16/50\n",
            "32/32 - 0s - loss: 6.3732e-05 - 60ms/epoch - 2ms/step\n",
            "Epoch 17/50\n",
            "32/32 - 0s - loss: 6.5002e-05 - 68ms/epoch - 2ms/step\n",
            "Epoch 18/50\n",
            "32/32 - 0s - loss: 3.9607e-05 - 65ms/epoch - 2ms/step\n",
            "Epoch 19/50\n",
            "32/32 - 0s - loss: 3.3401e-05 - 62ms/epoch - 2ms/step\n",
            "Epoch 20/50\n",
            "32/32 - 0s - loss: 3.9171e-05 - 67ms/epoch - 2ms/step\n",
            "Epoch 21/50\n",
            "32/32 - 0s - loss: 3.2627e-05 - 66ms/epoch - 2ms/step\n",
            "Epoch 22/50\n",
            "32/32 - 0s - loss: 3.2755e-05 - 60ms/epoch - 2ms/step\n",
            "Epoch 23/50\n",
            "32/32 - 0s - loss: 3.5218e-05 - 61ms/epoch - 2ms/step\n",
            "Epoch 24/50\n",
            "32/32 - 0s - loss: 2.4086e-05 - 63ms/epoch - 2ms/step\n",
            "Epoch 25/50\n",
            "32/32 - 0s - loss: 2.3566e-05 - 61ms/epoch - 2ms/step\n",
            "Epoch 26/50\n",
            "32/32 - 0s - loss: 2.7009e-05 - 63ms/epoch - 2ms/step\n",
            "Epoch 27/50\n",
            "32/32 - 0s - loss: 2.5353e-05 - 68ms/epoch - 2ms/step\n",
            "Epoch 28/50\n",
            "32/32 - 0s - loss: 2.6928e-05 - 61ms/epoch - 2ms/step\n",
            "Epoch 29/50\n",
            "32/32 - 0s - loss: 2.2762e-05 - 60ms/epoch - 2ms/step\n",
            "Epoch 30/50\n",
            "32/32 - 0s - loss: 2.5515e-05 - 60ms/epoch - 2ms/step\n",
            "Epoch 31/50\n",
            "32/32 - 0s - loss: 2.9955e-05 - 64ms/epoch - 2ms/step\n",
            "Epoch 32/50\n",
            "32/32 - 0s - loss: 3.6095e-05 - 71ms/epoch - 2ms/step\n",
            "Epoch 33/50\n",
            "32/32 - 0s - loss: 2.4789e-05 - 63ms/epoch - 2ms/step\n",
            "Epoch 34/50\n",
            "32/32 - 0s - loss: 4.1185e-05 - 63ms/epoch - 2ms/step\n",
            "Epoch 35/50\n",
            "32/32 - 0s - loss: 2.5781e-05 - 60ms/epoch - 2ms/step\n",
            "Epoch 36/50\n",
            "32/32 - 0s - loss: 2.7886e-05 - 63ms/epoch - 2ms/step\n",
            "Epoch 37/50\n",
            "32/32 - 0s - loss: 2.5543e-05 - 61ms/epoch - 2ms/step\n",
            "Epoch 38/50\n",
            "32/32 - 0s - loss: 2.2752e-05 - 61ms/epoch - 2ms/step\n",
            "Epoch 39/50\n",
            "32/32 - 0s - loss: 2.6379e-05 - 61ms/epoch - 2ms/step\n",
            "Epoch 40/50\n",
            "32/32 - 0s - loss: 2.2942e-05 - 60ms/epoch - 2ms/step\n",
            "Epoch 41/50\n",
            "32/32 - 0s - loss: 2.5308e-05 - 60ms/epoch - 2ms/step\n",
            "Epoch 42/50\n",
            "32/32 - 0s - loss: 3.4370e-05 - 60ms/epoch - 2ms/step\n",
            "Epoch 43/50\n",
            "32/32 - 0s - loss: 2.3221e-05 - 60ms/epoch - 2ms/step\n",
            "Epoch 44/50\n",
            "32/32 - 0s - loss: 2.5708e-05 - 58ms/epoch - 2ms/step\n",
            "Epoch 45/50\n",
            "32/32 - 0s - loss: 4.1094e-05 - 62ms/epoch - 2ms/step\n",
            "Epoch 46/50\n",
            "32/32 - 0s - loss: 6.9518e-05 - 59ms/epoch - 2ms/step\n",
            "Epoch 47/50\n",
            "32/32 - 0s - loss: 3.3628e-05 - 62ms/epoch - 2ms/step\n",
            "Epoch 48/50\n",
            "32/32 - 0s - loss: 3.0948e-05 - 64ms/epoch - 2ms/step\n",
            "Epoch 49/50\n",
            "32/32 - 0s - loss: 3.9562e-05 - 62ms/epoch - 2ms/step\n",
            "Epoch 50/50\n",
            "32/32 - 0s - loss: 4.5290e-05 - 64ms/epoch - 2ms/step\n",
            "The mean squared error (MSE) for the test data set is: 0.00014575273962691426\n"
          ]
        }
      ]
    }
  ]
}